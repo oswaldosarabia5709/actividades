{
  "nbformat": 4,
  "nbformat_minor": 0,
  "metadata": {
    "colab": {
      "name": "Untitled5.ipynb",
      "provenance": []
    },
    "kernelspec": {
      "name": "python3",
      "display_name": "Python 3"
    }
  },
  "cells": [
    {
      "cell_type": "code",
      "metadata": {
        "id": "djnzo-c2C3G-"
      },
      "source": [
        "numero = int(input(\"Digite un numero :\"))\n",
        "fac = 1\n",
        "for i in range(numero) :\n",
        "    fac *= numero \n",
        "    numero -= 1\n",
        "    print (fac)"
      ],
      "execution_count": null,
      "outputs": []
    }
  ]
}