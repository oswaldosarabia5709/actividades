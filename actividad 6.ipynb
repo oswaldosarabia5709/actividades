{
  "nbformat": 4,
  "nbformat_minor": 0,
  "metadata": {
    "colab": {
      "name": "Untitled2.ipynb",
      "provenance": []
    },
    "kernelspec": {
      "name": "python3",
      "display_name": "Python 3"
    }
  },
  "cells": [
    {
      "cell_type": "code",
      "metadata": {
        "id": "nBOudZlvRGOR",
        "outputId": "66354c47-3997-49a8-d987-6482d1c3e6e3",
        "colab": {
          "base_uri": "https://localhost:8080/",
          "height": 54
        }
      },
      "source": [
        "A = [2,9,'a',12,15]\n",
        "print(A)\n",
        "len(A)"
      ],
      "execution_count": 2,
      "outputs": [
        {
          "output_type": "stream",
          "text": [
            "[2, 9, 'a', 12, 15]\n"
          ],
          "name": "stdout"
        },
        {
          "output_type": "execute_result",
          "data": {
            "text/plain": [
              "5"
            ]
          },
          "metadata": {
            "tags": []
          },
          "execution_count": 2
        }
      ]
    },
    {
      "cell_type": "code",
      "metadata": {
        "id": "GymCimsaSKtb",
        "outputId": "a14418f9-46b0-4340-addd-63bb48ff2e52",
        "colab": {
          "base_uri": "https://localhost:8080/",
          "height": 72
        }
      },
      "source": [
        "b = [5,7,'a',7.35,8.9]\n",
        "print(b)\n",
        "\n",
        "print(b[0])\n",
        "print(b[2])"
      ],
      "execution_count": 3,
      "outputs": [
        {
          "output_type": "stream",
          "text": [
            "[5, 7, 'a', 7.35, 8.9]\n",
            "5\n",
            "a\n"
          ],
          "name": "stdout"
        }
      ]
    },
    {
      "cell_type": "code",
      "metadata": {
        "id": "Y_4GXfsHSLVT",
        "outputId": "7b0967d3-82c5-4cf1-ef21-74f5243569d6",
        "colab": {
          "base_uri": "https://localhost:8080/",
          "height": 54
        }
      },
      "source": [
        "A = [5,7,'a',6.4,9.1]\n",
        "print(A)\n",
        "A[1] = 8\n",
        "A[4] \n",
        "print(A)"
      ],
      "execution_count": 7,
      "outputs": [
        {
          "output_type": "stream",
          "text": [
            "[5, 7, 'a', 6.4, 9.1]\n",
            "[5, 8, 'a', 6.4, 9.1]\n"
          ],
          "name": "stdout"
        }
      ]
    },
    {
      "cell_type": "code",
      "metadata": {
        "id": "AnA9wSyESLoE",
        "outputId": "de3d2f6e-6ce2-4156-9cd4-1fcd45574453",
        "colab": {
          "base_uri": "https://localhost:8080/",
          "height": 51
        }
      },
      "source": [
        "A = [5,7,'a',7.35,8.9]\n",
        "print(A)\n",
        "A.append('c')\n",
        "print(A)"
      ],
      "execution_count": 8,
      "outputs": [
        {
          "output_type": "stream",
          "text": [
            "[5, 7, 'a', 7.35, 8.9]\n",
            "[5, 7, 'a', 7.35, 8.9, 'c']\n"
          ],
          "name": "stdout"
        }
      ]
    },
    {
      "cell_type": "code",
      "metadata": {
        "id": "qZqpoHI3SL8r",
        "outputId": "d963e340-6611-4214-b14b-6d11cfdb9491",
        "colab": {
          "base_uri": "https://localhost:8080/",
          "height": 54
        }
      },
      "source": [
        "A = [9,11,'a',10.54,12.3]\n",
        "print(A)\n",
        "A.insert(1,-3.1416)\n",
        "print(A)"
      ],
      "execution_count": 10,
      "outputs": [
        {
          "output_type": "stream",
          "text": [
            "[9, 11, 'a', 10.54, 12.3]\n",
            "[9, -3.1416, 11, 'a', 10.54, 12.3]\n"
          ],
          "name": "stdout"
        }
      ]
    },
    {
      "cell_type": "code",
      "metadata": {
        "id": "7-I0r8UQSMMT",
        "outputId": "9a5552a1-2b34-46b5-9288-fe5fbf94849e",
        "colab": {
          "base_uri": "https://localhost:8080/",
          "height": 72
        }
      },
      "source": [
        "A = [9,11,'a',10.54,12.3]\n",
        "print(A)\n",
        "del A[0]\n",
        "print(A)\n",
        "del A[1]\n",
        "print(A)"
      ],
      "execution_count": 12,
      "outputs": [
        {
          "output_type": "stream",
          "text": [
            "[9, 11, 'a', 10.54, 12.3]\n",
            "[11, 'a', 10.54, 12.3]\n",
            "[11, 10.54, 12.3]\n"
          ],
          "name": "stdout"
        }
      ]
    },
    {
      "cell_type": "code",
      "metadata": {
        "id": "IXMi6NijZSk4",
        "outputId": "73138f50-66ed-4799-86f8-09dd72febbfc",
        "colab": {
          "base_uri": "https://localhost:8080/",
          "height": 54
        }
      },
      "source": [
        "A = [5,7,'a',7.35,8.9]\n",
        "print(A)\n",
        "A.remove('a')\n",
        "print(A)\n",
        "A.remove(8.9)"
      ],
      "execution_count": 13,
      "outputs": [
        {
          "output_type": "stream",
          "text": [
            "[5, 7, 'a', 7.35, 8.9]\n",
            "[5, 7, 7.35, 8.9]\n"
          ],
          "name": "stdout"
        }
      ]
    },
    {
      "cell_type": "code",
      "metadata": {
        "id": "S_HhPOVUZzjN",
        "outputId": "ab93a2f6-509c-4595-fa41-c707adfd4456",
        "colab": {
          "base_uri": "https://localhost:8080/",
          "height": 108
        }
      },
      "source": [
        "A = [11,15,'a',8.4,13.5]\n",
        "print(A)\n",
        "var1 = A.pop()\n",
        "print(A)\n",
        "print(var1)\n",
        "var2 = A.pop(1)\n",
        "print(A)\n",
        "print(var2)"
      ],
      "execution_count": 16,
      "outputs": [
        {
          "output_type": "stream",
          "text": [
            "[11, 15, 'a', 8.4, 13.5]\n",
            "[11, 15, 'a', 8.4]\n",
            "13.5\n",
            "[11, 'a', 8.4]\n",
            "15\n"
          ],
          "name": "stdout"
        }
      ]
    }
  ]
}