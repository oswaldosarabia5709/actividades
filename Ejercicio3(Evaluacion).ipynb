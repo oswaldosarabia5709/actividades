{
  "nbformat": 4,
  "nbformat_minor": 0,
  "metadata": {
    "colab": {
      "name": "Untitled3.ipynb",
      "provenance": [],
      "collapsed_sections": []
    },
    "kernelspec": {
      "name": "python3",
      "display_name": "Python 3"
    }
  },
  "cells": [
    {
      "cell_type": "code",
      "metadata": {
        "id": "KcFalYUwTPst",
        "outputId": "26a62c9e-c982-4a36-aea1-573d8b40a840",
        "colab": {
          "base_uri": "https://localhost:8080/"
        }
      },
      "source": [
        "def Trabajo(numero_horas, costo_horas = 150):\n",
        "     \n",
        "    print(\"El pago en un dia es :\", numero_horas * costo_horas)\n",
        "  \n",
        "    print(\"El pago por semana es :\", numero_horas * costo_horas * 5)\n",
        "  \n",
        "    print(\"El sueldo por mes es:\", numero_horas * costo_horas * 20 )   \n",
        "\n",
        "a = int(input('Digite numero de horas por dia:'))\n",
        "b = int(input('Digite numero de horas por semana:'))\n",
        "c = int(input('Digite numero de horas por mes:'))\n",
        "\n",
        "Trabajo(a)\n",
        "\n",
        "\n",
        "\n",
        "  \n",
        "\n"
      ],
      "execution_count": 56,
      "outputs": [
        {
          "output_type": "stream",
          "text": [
            "Digite numero de horas por dia:8\n",
            "Digite numero de horas por semana:40\n",
            "Digite numero de horas por mes:160\n",
            "El pago en un dia es : 1200\n",
            "El pago por semana es : 6000\n",
            "El sueldo por mes es: 24000\n"
          ],
          "name": "stdout"
        }
      ]
    },
    {
      "cell_type": "code",
      "metadata": {
        "id": "cfZ0XRwKTP3E"
      },
      "source": [
        ""
      ],
      "execution_count": null,
      "outputs": []
    }
  ]
}