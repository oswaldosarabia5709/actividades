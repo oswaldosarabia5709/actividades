{
  "nbformat": 4,
  "nbformat_minor": 0,
  "metadata": {
    "colab": {
      "name": "Untitled4.ipynb",
      "provenance": []
    },
    "kernelspec": {
      "name": "python3",
      "display_name": "Python 3"
    }
  },
  "cells": [
    {
      "cell_type": "code",
      "metadata": {
        "id": "5BlgdbeOAaiw",
        "outputId": "89f62769-8b2a-451f-ae46-c451e944c22d",
        "colab": {
          "base_uri": "https://localhost:8080/"
        }
      },
      "source": [
        "print(\"---CALCULADORA ARITMETICA---\")\n",
        "print(\"1.-Suma\")\n",
        "print(\"2.-Resta\")\n",
        "print(\"3.-Multiplicacion\")\n",
        "print(\"4.-Division\")\n",
        "op = int(input(\"Tecle la opcion que desee:\"))\n",
        "numero1 = float(input(\"Tecle un numero:\"))\n",
        "numero2 = float(input(\"Tecle otro numero:\"))\n",
        "\n",
        "while (op == 4  and numero2 ==0) :\n",
        "       input(\"teclee otro numero\")\n",
        "\n",
        "if op == 1 :\n",
        "  suma = numero1 + numero2\n",
        "  print(f\"\\nla suma es: {suma}\")\n",
        "elif op == 2 :\n",
        "  resta = numero1 - numero2\n",
        "  print(f\"\\nla resta es:{resta}\")\n",
        "elif op == 3 :\n",
        "  mult = numero1 * numero2\n",
        "  print(f\"\\nla multiplicacion:{mult}\")  \n",
        "elif op == 4 :\n",
        "   div = numero1/numero2\n",
        "   print(f\"\\nla division es:{div}\")\n",
        " \n",
        "\n",
        "   \n",
        "   \n",
        "\n"
      ],
      "execution_count": null,
      "outputs": [
        {
          "output_type": "stream",
          "text": [
            "---CALCULADORA ARITMETICA---\n",
            "1.-Suma\n",
            "2.-Resta\n",
            "3.-Multiplicacion\n",
            "4.-Division\n",
            "Tecle la opcion que desee:4\n",
            "Tecle un numero:8\n",
            "Tecle otro numero:0\n",
            "teclee otro numero1\n",
            "teclee otro numero2\n"
          ],
          "name": "stdout"
        }
      ]
    }
  ]
}