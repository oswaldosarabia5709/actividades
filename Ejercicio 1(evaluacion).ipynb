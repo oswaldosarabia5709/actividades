{
  "nbformat": 4,
  "nbformat_minor": 0,
  "metadata": {
    "colab": {
      "name": "Untitled3.ipynb",
      "provenance": [],
      "collapsed_sections": []
    },
    "kernelspec": {
      "name": "python3",
      "display_name": "Python 3"
    }
  },
  "cells": [
    {
      "cell_type": "code",
      "metadata": {
        "id": "lyUW62DSShGI",
        "outputId": "5899c906-f5f1-44ab-b567-88044e1eb918",
        "colab": {
          "base_uri": "https://localhost:8080/"
        }
      },
      "source": [
        "numero1 = int(input(\"Digite un numero numero:\"))\n",
        "#numero2 = int(input(\"Digite el segundo numero:\"))\n",
        "\n",
        "if numero1%2==0:\n",
        "    print(\"Es un numero par\")\n",
        "elif numero2%2!=0:\n",
        "    print(\"el numero es impar\")"
      ],
      "execution_count": 3,
      "outputs": [
        {
          "output_type": "stream",
          "text": [
            "Digite un numero numero:5\n",
            "el numero es impar\n"
          ],
          "name": "stdout"
        }
      ]
    },
    {
      "cell_type": "code",
      "metadata": {
        "id": "KCP3OibRTPQg"
      },
      "source": [
        ""
      ],
      "execution_count": null,
      "outputs": []
    },
    {
      "cell_type": "code",
      "metadata": {
        "id": "EEhaYhRVTPh8"
      },
      "source": [
        ""
      ],
      "execution_count": null,
      "outputs": []
    },
    {
      "cell_type": "code",
      "metadata": {
        "id": "KcFalYUwTPst"
      },
      "source": [
        ""
      ],
      "execution_count": null,
      "outputs": []
    },
    {
      "cell_type": "code",
      "metadata": {
        "id": "cfZ0XRwKTP3E"
      },
      "source": [
        ""
      ],
      "execution_count": null,
      "outputs": []
    }
  ]
}