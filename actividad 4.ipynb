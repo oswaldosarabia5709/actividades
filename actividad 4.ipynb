{
  "nbformat": 4,
  "nbformat_minor": 0,
  "metadata": {
    "colab": {
      "name": "Untitled0.ipynb",
      "provenance": [],
      "collapsed_sections": []
    },
    "kernelspec": {
      "name": "python3",
      "display_name": "Python 3"
    }
  },
  "cells": [
    {
      "cell_type": "code",
      "metadata": {
        "id": "FckgcBEL-qT_",
        "outputId": "03e7de41-3d7e-4b93-b70c-3d916c85a1b6",
        "colab": {
          "base_uri": "https://localhost:8080/",
          "height": 68
        }
      },
      "source": [
        "a = 5\n",
        "b = 8\n",
        "c = 1\n",
        "\n",
        "print(\"a < b: \", a < b)\n",
        "print(\"b < a: \", b < a)\n",
        "print(\"a < c: \", a < c)"
      ],
      "execution_count": 10,
      "outputs": [
        {
          "output_type": "stream",
          "text": [
            "a < b:  True\n",
            "b < a:  False\n",
            "a < c:  False\n"
          ],
          "name": "stdout"
        }
      ]
    },
    {
      "cell_type": "code",
      "metadata": {
        "id": "ZJyBrMuI-rbP",
        "outputId": "7a1192d2-f1f8-4d08-b56a-6ea705e54dc9",
        "colab": {
          "base_uri": "https://localhost:8080/",
          "height": 68
        }
      },
      "source": [
        "a = 9\n",
        "b = 3\n",
        "\n",
        "c = 9\n",
        "\n",
        "print(\"a <= b: \", a <= b)\n",
        "print(\"b <= a: \", b <= a)\n",
        "print(\"a <= c: \", a <= c)"
      ],
      "execution_count": 11,
      "outputs": [
        {
          "output_type": "stream",
          "text": [
            "a <= b:  False\n",
            "b <= a:  True\n",
            "a <= c:  True\n"
          ],
          "name": "stdout"
        }
      ]
    },
    {
      "cell_type": "code",
      "metadata": {
        "id": "1ABAj3z0IKgA",
        "outputId": "df5a81a9-2518-4ac0-f609-8742e9b64fcc",
        "colab": {
          "base_uri": "https://localhost:8080/",
          "height": 68
        }
      },
      "source": [
        "a = 1\n",
        "b = 4\n",
        "c = 1\n",
        "\n",
        "print(\"a == b\", a == b)\n",
        "print(\"a != b\", a != b)\n",
        "print(\"a == c\", a == c )"
      ],
      "execution_count": 12,
      "outputs": [
        {
          "output_type": "stream",
          "text": [
            "a == b False\n",
            "a != b True\n",
            "a == c True\n"
          ],
          "name": "stdout"
        }
      ]
    },
    {
      "cell_type": "code",
      "metadata": {
        "id": "d5cC-S6RImF9",
        "outputId": "92c63028-aa68-48c8-b868-5be330322559",
        "colab": {
          "base_uri": "https://localhost:8080/",
          "height": 85
        }
      },
      "source": [
        "a = 1\n",
        "b = 2 \n",
        "c = 5\n",
        "d = 7\n",
        "\n",
        "print(\"a > b and c > d: \",a > b and c > d )\n",
        "print(\"a > b and c < d: \",a > b and c < d )\n",
        "print(\"a < b and c > d: \",a < b and c > d )\n",
        "print(\"a < b and c < d: \",a < b and c < d )"
      ],
      "execution_count": 13,
      "outputs": [
        {
          "output_type": "stream",
          "text": [
            "a > b and c > d:  False\n",
            "a > b and c < d:  False\n",
            "a < b and c > d:  False\n",
            "a < b and c < d:  True\n"
          ],
          "name": "stdout"
        }
      ]
    },
    {
      "cell_type": "code",
      "metadata": {
        "id": "wHstD3fZImSM",
        "outputId": "1ed147f2-4187-4113-deba-1f1768a96cf0",
        "colab": {
          "base_uri": "https://localhost:8080/",
          "height": 85
        }
      },
      "source": [
        "a = 5\n",
        "b = 8 \n",
        "c = 10\n",
        "d = 2\n",
        "\n",
        "print(\"a > b or c > d: \",a > b or c > d )\n",
        "print(\"a > b or c < d: \",a > b or c < d )\n",
        "print(\"a < b or c > d: \",a < b or c > d )\n",
        "print(\"a < b or c < d: \",a < b or c < d )"
      ],
      "execution_count": 15,
      "outputs": [
        {
          "output_type": "stream",
          "text": [
            "a > b or c > d:  True\n",
            "a > b or c < d:  False\n",
            "a < b or c > d:  True\n",
            "a < b or c < d:  True\n"
          ],
          "name": "stdout"
        }
      ]
    },
    {
      "cell_type": "code",
      "metadata": {
        "id": "Q3oY05GlImjK",
        "outputId": "ea1fb8a7-a105-4b0f-8394-c5a1fe397df0",
        "colab": {
          "base_uri": "https://localhost:8080/",
          "height": 51
        }
      },
      "source": [
        "a = True\n",
        "b = False\n",
        "\n",
        "print(\"a: \", a, \"   not a: \", not a)\n",
        "print(\"b: \", b, \"   not b: \", not b)\n"
      ],
      "execution_count": 16,
      "outputs": [
        {
          "output_type": "stream",
          "text": [
            "a:  True    not a:  False\n",
            "b:  False    not b:  True\n"
          ],
          "name": "stdout"
        }
      ]
    },
    {
      "cell_type": "code",
      "metadata": {
        "id": "B2xgUDMhJvS2",
        "outputId": "691722d2-2e7a-4a6c-fca2-69c0ab93ac68",
        "colab": {
          "base_uri": "https://localhost:8080/",
          "height": 51
        }
      },
      "source": [
        "c = 16\n",
        "d = 19\n",
        "print(\"c > d: \", c > d, \"   not(c > d): \", not(c > d))\n",
        "print(\"c < d: \", c < d, \"   not(c < d): \", not(c < d))"
      ],
      "execution_count": 17,
      "outputs": [
        {
          "output_type": "stream",
          "text": [
            "c > d:  False    not(c > d):  True\n",
            "c < d:  True    not(c < d):  False\n"
          ],
          "name": "stdout"
        }
      ]
    },
    {
      "cell_type": "code",
      "metadata": {
        "id": "VfxCXV5hJvqD"
      },
      "source": [
        ""
      ],
      "execution_count": null,
      "outputs": []
    }
  ]
}