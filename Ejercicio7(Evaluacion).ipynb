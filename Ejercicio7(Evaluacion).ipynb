{
  "nbformat": 4,
  "nbformat_minor": 0,
  "metadata": {
    "colab": {
      "name": "Untitled5.ipynb",
      "provenance": []
    },
    "kernelspec": {
      "name": "python3",
      "display_name": "Python 3"
    }
  },
  "cells": [
    {
      "cell_type": "code",
      "metadata": {
        "id": "a5xv9ZKg1uj7",
        "outputId": "29c54a55-da4b-4a6c-eb96-06303f4445cf",
        "colab": {
          "base_uri": "https://localhost:8080/"
        }
      },
      "source": [
        "\n",
        "def Museo(Edad,Ocupacion) :\n",
        "     \n",
        "      if op <= 4 :\n",
        "       op1 = print(\"La persona es menor de edad y la entrada es gratis\")    \n",
        "      elif op > 4 and op <= 16 :\n",
        "       op2 = 50 * 0.10\n",
        "       print(f\"\\nEes estudiante y debe pagar: {op2}\")\n",
        "      elif op >16 and  op < 60 :\n",
        "       op3 = 100 * 0.30\n",
        "       print(f\"\\nEs docente y debe pagar: {op3} \")\n",
        "      elif op > 59 and  op <= 90 :\n",
        "       op4 = 100 * 0.50\n",
        "       print(f\"\\nEs mayor de edad y debe pagar: {op4}\")\n",
        "    \n",
        "op = int(input(\"Digite un numero:\")) \n",
        "if op <= 4 :\n",
        "       op1 = print(\"La persona es menor de edad y la entrada es gratis\")    \n",
        "elif op > 4 and op <= 16 :\n",
        "       op2 = 50 * 0.10\n",
        "       print(f\"\\nEes estudiante y debe pagar: {op2}\")\n",
        "elif op >16 and  op < 60 :\n",
        "       op3 = 100 * 0.30\n",
        "       print(f\"\\nEs docente y debe pagar: {op3} \")\n",
        "elif op > 59 and  op <= 90 :\n",
        "       op4 = 100 * 0.50\n",
        "       print(f\"\\nEs mayor de edad y debe pagar: {op4}\")\n",
        "             \n"
      ],
      "execution_count": 181,
      "outputs": [
        {
          "output_type": "stream",
          "text": [
            "Digite un numero:54\n",
            "\n",
            "Es docente y debe pagar: 30.0 \n"
          ],
          "name": "stdout"
        }
      ]
    }
  ]
}