{
  "nbformat": 4,
  "nbformat_minor": 0,
  "metadata": {
    "colab": {
      "name": "Untitled3.ipynb",
      "provenance": [],
      "collapsed_sections": []
    },
    "kernelspec": {
      "name": "python3",
      "display_name": "Python 3"
    }
  },
  "cells": [
    {
      "cell_type": "code",
      "metadata": {
        "id": "KCP3OibRTPQg"
      },
      "source": [
        "\n",
        "\n",
        "\n",
        "numero = input(\"Digite un numero:\")\n",
        "print(numero)\n",
        "cadena = input(\"digite una cadena:\")\n",
        "contador = 1\n",
        "contador = contador * numero\n",
        "while  contador <= numero :\n",
        "      print(cadena)\n",
        "       \n",
        "\n",
        "\n",
        "      \n",
        "\n"
      ],
      "execution_count": null,
      "outputs": []
    },
    {
      "cell_type": "code",
      "metadata": {
        "id": "KcFalYUwTPst"
      },
      "source": [
        ""
      ],
      "execution_count": null,
      "outputs": []
    },
    {
      "cell_type": "code",
      "metadata": {
        "id": "cfZ0XRwKTP3E"
      },
      "source": [
        ""
      ],
      "execution_count": null,
      "outputs": []
    }
  ]
}