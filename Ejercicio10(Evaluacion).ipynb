{
  "nbformat": 4,
  "nbformat_minor": 0,
  "metadata": {
    "colab": {
      "name": "Untitled5.ipynb",
      "provenance": []
    },
    "kernelspec": {
      "name": "python3",
      "display_name": "Python 3"
    }
  },
  "cells": [
    {
      "cell_type": "code",
      "metadata": {
        "id": "EyXm5A11J1-p"
      },
      "source": [
        "def Area_circulo(radio,altura, pi = 3.1416 ) :\n",
        "        print(\"EL AREA DEL CIRCULO ES:\", pi * radio ** 2)\n",
        "        print(\"EL VOLUMEN DEL CILINDRO ES:\", pi * radio ** 2 * altura)\n",
        "   \n",
        "op1 = float(input('Teclee el radio del circulo:'))\n",
        "op2 = float(input('Teclee el radio del cilindro:'))\n",
        "op3 = float(input('Teclee la altura del cilindro'))\n",
        "\n",
        "\n",
        "Area_circulo(op1,op2,op3) \n",
        "\n",
        "\n",
        "\n",
        "\n",
        "\n",
        "\n",
        "\n"
      ],
      "execution_count": null,
      "outputs": []
    }
  ]
}