{
  "nbformat": 4,
  "nbformat_minor": 0,
  "metadata": {
    "colab": {
      "name": "Untitled1.ipynb",
      "provenance": []
    },
    "kernelspec": {
      "name": "python3",
      "display_name": "Python 3"
    }
  },
  "cells": [
    {
      "cell_type": "code",
      "metadata": {
        "id": "Abm7fp28L-f3"
      },
      "source": [
        "cont = '123'\n",
        "\n",
        "Pass = ''\n",
        "\n",
        "while(cont != Pass):\n",
        " Pass = input(\"Digite su  contrasena:\")\n",
        "\n",
        "print(\"Bienvenido a su cuenta\")"
      ],
      "execution_count": null,
      "outputs": []
    },
    {
      "cell_type": "code",
      "metadata": {
        "id": "BRYjuZuSOSmq",
        "outputId": "4cd35002-1ee6-4275-9649-159ce70e0541",
        "colab": {
          "base_uri": "https://localhost:8080/",
          "height": 357
        }
      },
      "source": [
        "contador = 1\n",
        "\n",
        "while contador < 20:\n",
        "\tcontador = contador + 1\n",
        "\tprint(contador)\n",
        "print(contador)"
      ],
      "execution_count": 3,
      "outputs": [
        {
          "output_type": "stream",
          "text": [
            "2\n",
            "3\n",
            "4\n",
            "5\n",
            "6\n",
            "7\n",
            "8\n",
            "9\n",
            "10\n",
            "11\n",
            "12\n",
            "13\n",
            "14\n",
            "15\n",
            "16\n",
            "17\n",
            "18\n",
            "19\n",
            "20\n",
            "20\n"
          ],
          "name": "stdout"
        }
      ]
    },
    {
      "cell_type": "code",
      "metadata": {
        "id": "fWs98wBTOUwL",
        "outputId": "2beeaa07-d459-4575-9f00-93abd43091e5",
        "colab": {
          "base_uri": "https://localhost:8080/",
          "height": 221
        }
      },
      "source": [
        "conta = 0\n",
        "\n",
        "while conta <= 10:\n",
        "\tconta = conta + 1\n",
        "\tif contador >= 8:\n",
        "\t\tbreak\n",
        "\tprint(conta)\n",
        "\n",
        "print(conta)"
      ],
      "execution_count": 5,
      "outputs": [
        {
          "output_type": "stream",
          "text": [
            "1\n",
            "2\n",
            "3\n",
            "4\n",
            "5\n",
            "6\n",
            "7\n",
            "8\n",
            "9\n",
            "10\n",
            "11\n",
            "11\n"
          ],
          "name": "stdout"
        }
      ]
    },
    {
      "cell_type": "code",
      "metadata": {
        "id": "QvNNccyCOVBS",
        "outputId": "8261b58f-fe1e-4e45-a1bc-b27fd8ca7a17",
        "colab": {
          "base_uri": "https://localhost:8080/",
          "height": 102
        }
      },
      "source": [
        "contador = 0\n",
        "\n",
        "while contador <= 10:\n",
        "\tcontador = contador + 1\n",
        "\tif contador >= 5:\n",
        "\t\tcontinue\n",
        "\n",
        "\tprint(contador)\n",
        "\n",
        "print(contador)"
      ],
      "execution_count": 6,
      "outputs": [
        {
          "output_type": "stream",
          "text": [
            "1\n",
            "2\n",
            "3\n",
            "4\n",
            "11\n"
          ],
          "name": "stdout"
        }
      ]
    },
    {
      "cell_type": "code",
      "metadata": {
        "id": "fl6DTQyUOVRR"
      },
      "source": [
        ""
      ],
      "execution_count": null,
      "outputs": []
    }
  ]
}