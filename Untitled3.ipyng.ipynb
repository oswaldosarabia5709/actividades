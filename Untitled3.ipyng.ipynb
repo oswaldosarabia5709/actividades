{
  "nbformat": 4,
  "nbformat_minor": 0,
  "metadata": {
    "colab": {
      "name": "Untitled3.ipynb",
      "provenance": [],
      "collapsed_sections": []
    },
    "kernelspec": {
      "name": "python3",
      "display_name": "Python 3"
    }
  },
  "cells": [
    {
      "cell_type": "code",
      "metadata": {
        "id": "cfZ0XRwKTP3E",
        "outputId": "5db5c3ea-7527-4c0c-a9b8-91eda29feb04",
        "colab": {
          "base_uri": "https://localhost:8080/"
        }
      },
      "source": [
        "import cmath\n",
        "\n",
        "print(\"Formula general ax+ bx + c= 0\")\n",
        "print ()\n",
        "\n",
        "a = float(input(\"Introduzca primer valor a:\"))\n",
        "b = float(input(\"Introduzca segundo valor b:\"))\n",
        "c = float(input(\"Introduzca tercer valor c:\"))\n",
        "\n",
        "y = b** 2 - 4 * a * c\n",
        "\n",
        "if y>0:\n",
        "    r = cmath.sqrt(y)\n",
        "    x = (-b + r) / (2 * a)\n",
        "    print(x)\n",
        "    x = (-b - r) / (2 * a)\n",
        "    print(x)\n",
        "    pause = input()\n",
        "else:\n",
        "     print(\"Error, el discriminante tiene que ser positivo\") \n",
        "     print(y)  "
      ],
      "execution_count": 8,
      "outputs": [
        {
          "output_type": "stream",
          "text": [
            "Formula general ax+ bx + c= 0\n",
            "\n",
            "Introduzca primer valor a:4\n",
            "Introduzca segundo valor b:2\n",
            "Introduzca tercer valor c:3\n",
            "Error, el discriminante tiene que ser positivo\n",
            "-44.0\n"
          ],
          "name": "stdout"
        }
      ]
    }
  ]
}